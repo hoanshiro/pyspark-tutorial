{
 "cells": [
  {
   "cell_type": "code",
   "execution_count": 1,
   "id": "f1220acd-20da-4544-8910-05e04b261970",
   "metadata": {},
   "outputs": [
    {
     "data": {
      "text/plain": [
       "'/home/henry/spark'"
      ]
     },
     "execution_count": 1,
     "metadata": {},
     "output_type": "execute_result"
    }
   ],
   "source": [
    "import findspark\n",
    "findspark.init()\n",
    "findspark.find()"
   ]
  },
  {
   "cell_type": "code",
   "execution_count": 2,
   "id": "f1afacbd-e295-4955-b1e4-138a0f05f34e",
   "metadata": {},
   "outputs": [],
   "source": [
    "from pyspark.sql import SparkSession"
   ]
  },
  {
   "cell_type": "code",
   "execution_count": 3,
   "id": "92af7e8d-e00e-4f38-8e4d-42d154bec9a5",
   "metadata": {},
   "outputs": [],
   "source": [
    "from graphframes import GraphFrame"
   ]
  },
  {
   "cell_type": "code",
   "execution_count": 4,
   "id": "97178d6e-48e2-4f6b-b917-5cb1e1355132",
   "metadata": {},
   "outputs": [
    {
     "name": "stderr",
     "output_type": "stream",
     "text": [
      "22/09/26 23:14:40 WARN NativeCodeLoader: Unable to load native-hadoop library for your platform... using builtin-java classes where applicable\n",
      "Using Spark's default log4j profile: org/apache/spark/log4j-defaults.properties\n",
      "Setting default log level to \"WARN\".\n",
      "To adjust logging level use sc.setLogLevel(newLevel). For SparkR, use setLogLevel(newLevel).\n"
     ]
    }
   ],
   "source": [
    "spark = SparkSession.builder.appName(\"GraphFrameBasis\").getOrCreate()"
   ]
  },
  {
   "cell_type": "markdown",
   "id": "21f7efe0-16ff-47ee-abc3-96b53c3587ba",
   "metadata": {},
   "source": [
    "- Graph is a pair (V, E)\n",
    "- V is a set of vertices\n",
    "- E is a collection of pair of vertices, called edge\n",
    "- V & E are positions and store elements"
   ]
  },
  {
   "cell_type": "markdown",
   "id": "af86d79c-67ca-4857-9c08-3bbf3a36d3a1",
   "metadata": {},
   "source": [
    "## 1. GraphFrame Basic"
   ]
  },
  {
   "cell_type": "code",
   "execution_count": 5,
   "id": "a26173ee-b301-40bb-9af9-73b95a703f1c",
   "metadata": {},
   "outputs": [],
   "source": [
    "vertices = [(\"a\", \"Alice\", 34),\n",
    "            (\"b\", \"Bob\", 36),\n",
    "            (\"c\", \"Charlie\", 30)]\n",
    "column_names = [\"id\", \"name\", \"age\"]"
   ]
  },
  {
   "cell_type": "code",
   "execution_count": 6,
   "id": "5bca9e8b-7c49-4ca6-8443-14d0979edc84",
   "metadata": {},
   "outputs": [
    {
     "name": "stderr",
     "output_type": "stream",
     "text": [
      "                                                                                \r"
     ]
    },
    {
     "name": "stdout",
     "output_type": "stream",
     "text": [
      "+---+-------+---+\n",
      "| id|   name|age|\n",
      "+---+-------+---+\n",
      "|  a|  Alice| 34|\n",
      "|  b|    Bob| 36|\n",
      "|  c|Charlie| 30|\n",
      "+---+-------+---+\n",
      "\n"
     ]
    }
   ],
   "source": [
    "v = spark.createDataFrame(vertices, column_names)\n",
    "v.show()"
   ]
  },
  {
   "cell_type": "code",
   "execution_count": 7,
   "id": "02f4b841-a1aa-4e54-a9df-1215378b9f9c",
   "metadata": {},
   "outputs": [],
   "source": [
    "edges = [(\"a\", \"b\", \"friend\"),\n",
    "        (\"b\", \"c\", \"follow\"), \n",
    "        (\"c\", \"b\", \"follow\")]\n",
    "edge_columns = [\"src\", \"dst\", \"relationship\"]\n",
    "e = spark.createDataFrame(edges, edge_columns)"
   ]
  },
  {
   "cell_type": "code",
   "execution_count": 8,
   "id": "72136091-ee80-45fa-adb8-767094755c11",
   "metadata": {},
   "outputs": [
    {
     "name": "stdout",
     "output_type": "stream",
     "text": [
      "+---+---+------------+\n",
      "|src|dst|relationship|\n",
      "+---+---+------------+\n",
      "|  a|  b|      friend|\n",
      "|  b|  c|      follow|\n",
      "|  c|  b|      follow|\n",
      "+---+---+------------+\n",
      "\n"
     ]
    }
   ],
   "source": [
    "e.show()"
   ]
  },
  {
   "cell_type": "code",
   "execution_count": 9,
   "id": "9cc87233-ead5-4649-bb3a-b8704dae2fee",
   "metadata": {},
   "outputs": [
    {
     "data": {
      "text/plain": [
       "GraphFrame(v:[id: string, name: string ... 1 more field], e:[src: string, dst: string ... 1 more field])"
      ]
     },
     "execution_count": 9,
     "metadata": {},
     "output_type": "execute_result"
    }
   ],
   "source": [
    "# create GraphFrame\n",
    "graph = GraphFrame(v, e)\n",
    "graph"
   ]
  },
  {
   "cell_type": "code",
   "execution_count": 10,
   "id": "a151173c-6cce-4fba-9c6c-ba1a3e41a439",
   "metadata": {},
   "outputs": [
    {
     "name": "stdout",
     "output_type": "stream",
     "text": [
      "+---+--------+\n",
      "| id|inDegree|\n",
      "+---+--------+\n",
      "|  c|       1|\n",
      "|  b|       2|\n",
      "+---+--------+\n",
      "\n"
     ]
    }
   ],
   "source": [
    "# show in-degree of vertex(num of edges that terminate in that vertiex)\n",
    "graph.inDegrees.show()"
   ]
  },
  {
   "cell_type": "code",
   "execution_count": 11,
   "id": "16c19a7f-1389-4ba2-bf91-25ef1ba08ada",
   "metadata": {},
   "outputs": [
    {
     "data": {
      "text/plain": [
       "2"
      ]
     },
     "execution_count": 11,
     "metadata": {},
     "output_type": "execute_result"
    }
   ],
   "source": [
    "# count number of follow connection in graph\n",
    "graph.edges.filter(\"relationship = 'follow'\").count()"
   ]
  },
  {
   "cell_type": "code",
   "execution_count": 12,
   "id": "5b07ad24-a930-47c1-881a-8004c4c45abf",
   "metadata": {},
   "outputs": [
    {
     "name": "stderr",
     "output_type": "stream",
     "text": [
      "                                                                                \r"
     ]
    },
    {
     "name": "stdout",
     "output_type": "stream",
     "text": [
      "+---+------------------+\n",
      "| id|          pagerank|\n",
      "+---+------------------+\n",
      "|  b|1.0905890109440908|\n",
      "|  a|              0.01|\n",
      "|  c|1.8994109890559092|\n",
      "+---+------------------+\n",
      "\n"
     ]
    }
   ],
   "source": [
    "# test PageRank algorithm\n",
    "pageRanks = graph.pageRank(resetProbability=0.01, maxIter=20)\n",
    "pageRanks.vertices.select(\"id\", 'pagerank').show()"
   ]
  },
  {
   "cell_type": "markdown",
   "id": "6237501b-0f0f-46cb-8c6e-27135afb992b",
   "metadata": {},
   "source": [
    "## 2. GraphFrame Algorithms"
   ]
  },
  {
   "cell_type": "markdown",
   "id": "d54f2383-591a-4e5d-8045-fee14a15ebc9",
   "metadata": {},
   "source": [
    "### 2.1 Create GraphFrame"
   ]
  },
  {
   "cell_type": "code",
   "execution_count": 13,
   "id": "bdbd17fb-3e90-4706-9505-e5e2ae22c841",
   "metadata": {},
   "outputs": [],
   "source": [
    "vertices = [('a', 'Alice',34), \n",
    "            ('b', 'Bob', 36), \n",
    "            ('c', 'Charlie',30), \n",
    "            ('d', 'David',29), \n",
    "            ('e', 'Esther',32), \n",
    "            ('f', 'Fanny',36), \n",
    "            ('g', 'Gabby',60)]\n",
    "\n",
    "edges = [('a', 'b', 'friend'),\n",
    "        ('b', 'c', 'follow'), \n",
    "        ('c', 'b', 'follow'), \n",
    "        ('f', 'c', 'follow'), \n",
    "        ('e', 'f', 'follow'), \n",
    "        ('e', 'd', 'friend'), \n",
    "        ('d', 'a', 'friend'), \n",
    "        ('a', 'e', 'friend')]"
   ]
  },
  {
   "cell_type": "code",
   "execution_count": 14,
   "id": "8d64c277-e448-44b1-a4aa-9a572eacd3a3",
   "metadata": {},
   "outputs": [],
   "source": [
    "v = spark.createDataFrame(vertices, [\"id\", \"name\", \"age\"])\n",
    "e = spark.createDataFrame(edges, [\"src\", \"dst\", \"relationship\"])\n",
    "user_graph = GraphFrame(v, e)"
   ]
  },
  {
   "cell_type": "code",
   "execution_count": 15,
   "id": "9e0cf8d8-f9e6-4da2-a5d3-6df9515053d8",
   "metadata": {},
   "outputs": [
    {
     "name": "stdout",
     "output_type": "stream",
     "text": [
      "+---+-------+---+\n",
      "| id|   name|age|\n",
      "+---+-------+---+\n",
      "|  a|  Alice| 34|\n",
      "|  b|    Bob| 36|\n",
      "|  c|Charlie| 30|\n",
      "|  d|  David| 29|\n",
      "|  e| Esther| 32|\n",
      "|  f|  Fanny| 36|\n",
      "|  g|  Gabby| 60|\n",
      "+---+-------+---+\n",
      "\n"
     ]
    }
   ],
   "source": [
    "user_graph.vertices.show()"
   ]
  },
  {
   "cell_type": "code",
   "execution_count": 16,
   "id": "ed7ddd8f-a18a-4c06-a773-4cb57a8971b0",
   "metadata": {},
   "outputs": [
    {
     "name": "stdout",
     "output_type": "stream",
     "text": [
      "+---+---+------------+\n",
      "|src|dst|relationship|\n",
      "+---+---+------------+\n",
      "|  a|  b|      friend|\n",
      "|  b|  c|      follow|\n",
      "|  c|  b|      follow|\n",
      "|  f|  c|      follow|\n",
      "|  e|  f|      follow|\n",
      "|  e|  d|      friend|\n",
      "|  d|  a|      friend|\n",
      "|  a|  e|      friend|\n",
      "+---+---+------------+\n",
      "\n"
     ]
    }
   ],
   "source": [
    "user_graph.edges.show()"
   ]
  },
  {
   "cell_type": "markdown",
   "id": "5d101517-29ec-4778-a0a3-8d4ada5b736f",
   "metadata": {},
   "source": [
    "### 2.2 Triangles Finding"
   ]
  },
  {
   "cell_type": "code",
   "execution_count": 17,
   "id": "9fb93c8d-9bcd-436d-8c5d-acb60ac095d2",
   "metadata": {},
   "outputs": [
    {
     "name": "stderr",
     "output_type": "stream",
     "text": [
      "                                                                                8]\r"
     ]
    },
    {
     "name": "stdout",
     "output_type": "stream",
     "text": [
      "+-----+---+-------+---+\n",
      "|count| id|   name|age|\n",
      "+-----+---+-------+---+\n",
      "|    0|  g|  Gabby| 60|\n",
      "|    0|  f|  Fanny| 36|\n",
      "|    1|  e| Esther| 32|\n",
      "|    1|  d|  David| 29|\n",
      "|    0|  c|Charlie| 30|\n",
      "|    0|  b|    Bob| 36|\n",
      "|    1|  a|  Alice| 34|\n",
      "+-----+---+-------+---+\n",
      "\n"
     ]
    }
   ],
   "source": [
    "triangle_count = user_graph.triangleCount()\n",
    "triangle_count.show() # count the number of triangle passing through each vertex"
   ]
  },
  {
   "cell_type": "code",
   "execution_count": 18,
   "id": "d2e82c9f-aa07-4839-bd21-797b79c0a93d",
   "metadata": {},
   "outputs": [
    {
     "name": "stderr",
     "output_type": "stream",
     "text": [
      "                                                                                \r"
     ]
    },
    {
     "name": "stdout",
     "output_type": "stream",
     "text": [
      "+---+-----+\n",
      "| id|count|\n",
      "+---+-----+\n",
      "|  g|    0|\n",
      "|  f|    0|\n",
      "|  e|    1|\n",
      "|  d|    1|\n",
      "|  c|    0|\n",
      "|  b|    0|\n",
      "|  a|    1|\n",
      "+---+-----+\n",
      "\n"
     ]
    }
   ],
   "source": [
    "triangle_count.select(\"id\", \"count\").show()"
   ]
  },
  {
   "cell_type": "code",
   "execution_count": 19,
   "id": "6627033b-c943-489d-8c50-0621c6833bef",
   "metadata": {},
   "outputs": [
    {
     "name": "stderr",
     "output_type": "stream",
     "text": [
      "                                                                                \r"
     ]
    },
    {
     "name": "stdout",
     "output_type": "stream",
     "text": [
      "+---+-----+\n",
      "| id|count|\n",
      "+---+-----+\n",
      "|  e|    1|\n",
      "|  d|    1|\n",
      "|  a|    1|\n",
      "+---+-----+\n",
      "\n"
     ]
    }
   ],
   "source": [
    "triangle_count.select(\"id\", \"count\").filter(\"count > 0\").show()"
   ]
  },
  {
   "cell_type": "markdown",
   "id": "b0f998cb-79f6-4c14-84d9-59ed2e5e4024",
   "metadata": {},
   "source": [
    "### 2.3 Motif Finding\n",
    "- GraphFrames uses a simple domain-specific language (DSL) for expressing structural querie"
   ]
  },
  {
   "cell_type": "code",
   "execution_count": 20,
   "id": "5dc2900a-cfcd-4a0d-8fe8-8da157f03092",
   "metadata": {},
   "outputs": [
    {
     "name": "stdout",
     "output_type": "stream",
     "text": [
      "+----------------+--------------+----------------+--------------+\n",
      "|               a|            e1|               b|            e2|\n",
      "+----------------+--------------+----------------+--------------+\n",
      "|[c, Charlie, 30]|[c, b, follow]|    [b, Bob, 36]|[b, c, follow]|\n",
      "|    [b, Bob, 36]|[b, c, follow]|[c, Charlie, 30]|[c, b, follow]|\n",
      "+----------------+--------------+----------------+--------------+\n",
      "\n"
     ]
    }
   ],
   "source": [
    "# search for pairs of vertices {a, b} connected by edges in both directions\n",
    "user_graph.find(\"(a)-[e1]->(b); (b)-[e2]->(a)\").show()"
   ]
  },
  {
   "cell_type": "code",
   "execution_count": 21,
   "id": "6693f483-bed7-4861-a583-6be82aaae67f",
   "metadata": {},
   "outputs": [
    {
     "name": "stderr",
     "output_type": "stream",
     "text": [
      "                                                                                \r"
     ]
    },
    {
     "name": "stdout",
     "output_type": "stream",
     "text": [
      "+---------------+--------------+----------------+\n",
      "|              a|            e1|               b|\n",
      "+---------------+--------------+----------------+\n",
      "| [a, Alice, 34]|[a, e, friend]| [e, Esther, 32]|\n",
      "|[e, Esther, 32]|[e, f, follow]|  [f, Fanny, 36]|\n",
      "| [a, Alice, 34]|[a, b, friend]|    [b, Bob, 36]|\n",
      "|[e, Esther, 32]|[e, d, friend]|  [d, David, 29]|\n",
      "| [f, Fanny, 36]|[f, c, follow]|[c, Charlie, 30]|\n",
      "| [d, David, 29]|[d, a, friend]|  [a, Alice, 34]|\n",
      "+---------------+--------------+----------------+\n",
      "\n"
     ]
    }
   ],
   "source": [
    "# search for pairs of vertices {a, b} has only one way relationship\n",
    "user_graph.find(\"(a)-[e1]->(b); !(b)-[]->(a)\").show()"
   ]
  },
  {
   "cell_type": "markdown",
   "id": "64dcca25-3f88-4fd5-8f25-894d853acf78",
   "metadata": {},
   "source": [
    "### 2.4 Finding unique triangles with motif"
   ]
  },
  {
   "cell_type": "code",
   "execution_count": 22,
   "id": "617f7645-c383-4396-b46a-6f276c4a3b2d",
   "metadata": {},
   "outputs": [
    {
     "name": "stdout",
     "output_type": "stream",
     "text": [
      "+---------------+--------------+---------------+--------------+---------------+--------------+\n",
      "|              a|            e1|              b|            e2|              c|            e3|\n",
      "+---------------+--------------+---------------+--------------+---------------+--------------+\n",
      "| [d, David, 29]|[d, a, friend]| [a, Alice, 34]|[a, e, friend]|[e, Esther, 32]|[e, d, friend]|\n",
      "| [a, Alice, 34]|[a, e, friend]|[e, Esther, 32]|[e, d, friend]| [d, David, 29]|[d, a, friend]|\n",
      "|[e, Esther, 32]|[e, d, friend]| [d, David, 29]|[d, a, friend]| [a, Alice, 34]|[a, e, friend]|\n",
      "+---------------+--------------+---------------+--------------+---------------+--------------+\n",
      "\n"
     ]
    }
   ],
   "source": [
    "# triangle counting with motif finding\n",
    "user_graph.find(\"(a)-[e1]->(b); (b)-[e2]->(c); (c)-[e3]->(a)\").show()"
   ]
  },
  {
   "cell_type": "code",
   "execution_count": 23,
   "id": "46b1d199-2fdd-4a5e-97c0-c681e66d4cfa",
   "metadata": {},
   "outputs": [
    {
     "name": "stdout",
     "output_type": "stream",
     "text": [
      "vertex_id\n",
      "0\n",
      "1\n",
      "2\n"
     ]
    }
   ],
   "source": [
    "!head -4 data/sample_graph_vertices.txt"
   ]
  },
  {
   "cell_type": "code",
   "execution_count": 24,
   "id": "2fdcadd6-cd47-45ce-9172-2b453d06301c",
   "metadata": {},
   "outputs": [
    {
     "name": "stdout",
     "output_type": "stream",
     "text": [
      "edge_weight,from_id,to_id\n",
      "0,5,15\n",
      "1,18,8\n",
      "2,6,1\n"
     ]
    }
   ],
   "source": [
    "!head -4 data/sample_graph_edges.txt"
   ]
  },
  {
   "cell_type": "code",
   "execution_count": 25,
   "id": "b55c554c-196e-4d5d-8720-6a076ad10ee3",
   "metadata": {},
   "outputs": [
    {
     "name": "stdout",
     "output_type": "stream",
     "text": [
      "+---+\n",
      "| id|\n",
      "+---+\n",
      "|  0|\n",
      "|  1|\n",
      "|  2|\n",
      "|  3|\n",
      "|  4|\n",
      "+---+\n",
      "only showing top 5 rows\n",
      "\n"
     ]
    }
   ],
   "source": [
    "vertice_df = spark.read.csv('data/sample_graph_vertices.txt', header=True)\n",
    "vertice_df = vertice_df.withColumnRenamed(\"vertex_id\", \"id\")\n",
    "vertice_df.show(5)"
   ]
  },
  {
   "cell_type": "code",
   "execution_count": 26,
   "id": "7c9c7fe5-b3ec-492b-8d64-34a128f1cae3",
   "metadata": {},
   "outputs": [],
   "source": [
    "from pyspark.sql.types import StructType, StructField, IntegerType"
   ]
  },
  {
   "cell_type": "code",
   "execution_count": 27,
   "id": "7da92ce6-fa13-408b-acab-313fa679de0e",
   "metadata": {},
   "outputs": [
    {
     "name": "stdout",
     "output_type": "stream",
     "text": [
      "+---+---+\n",
      "|src|dst|\n",
      "+---+---+\n",
      "|  5| 15|\n",
      "| 18|  8|\n",
      "|  6|  1|\n",
      "|  0| 10|\n",
      "|  2|  4|\n",
      "+---+---+\n",
      "only showing top 5 rows\n",
      "\n"
     ]
    }
   ],
   "source": [
    "edges_df = spark.read.csv('data/sample_graph_edges.txt',header=True)\n",
    "edges_df = edges_df.toDF(\"weight\", \"src\", \"dst\").select(\"src\", \"dst\")\n",
    "edges_df.show(5)"
   ]
  },
  {
   "cell_type": "code",
   "execution_count": 28,
   "id": "642d0135-ec7c-4f5e-8dc6-4f716bde195a",
   "metadata": {},
   "outputs": [],
   "source": [
    "sample_graph = GraphFrame(vertice_df, edges_df)"
   ]
  },
  {
   "cell_type": "code",
   "execution_count": 29,
   "id": "17761f20-e922-4b76-a41a-5c2de562c02c",
   "metadata": {},
   "outputs": [
    {
     "name": "stdout",
     "output_type": "stream",
     "text": [
      "+---+---+---+\n",
      "|  a|  b|  c|\n",
      "+---+---+---+\n",
      "+---+---+---+\n",
      "\n"
     ]
    }
   ],
   "source": [
    "# find all triangles, might have dupplicates\n",
    "motifs = graph.find(\"(a)-[]->(b); (b)-[]->(c); (c)-[]->(a)\")\n",
    "motifs.show()"
   ]
  },
  {
   "cell_type": "code",
   "execution_count": 30,
   "id": "656a1f8f-0b21-41b8-a4ab-8acead31259d",
   "metadata": {},
   "outputs": [
    {
     "name": "stdout",
     "output_type": "stream",
     "text": [
      "+---+---+---+\n",
      "|  a|  b|  c|\n",
      "+---+---+---+\n",
      "+---+---+---+\n",
      "\n"
     ]
    }
   ],
   "source": [
    "# there only one change this case happen\n",
    "unique_triangles = motifs[(motifs.a > motifs.b) & (motifs.b > motifs.c)]\n",
    "unique_triangles.show()"
   ]
  },
  {
   "cell_type": "markdown",
   "id": "6c083e74-aa2b-4f85-9476-d486d052b2ee",
   "metadata": {},
   "source": [
    "### 2.5 Finding Subgraph"
   ]
  },
  {
   "cell_type": "code",
   "execution_count": 31,
   "id": "bdf26ceb-6e94-4dda-8a91-189a519fde88",
   "metadata": {},
   "outputs": [],
   "source": [
    "user_paths = user_graph.find(\"(a)-[e]->(b)\").filter(\"e.relationship = 'follow'\"\n",
    "                                                   ).filter(\"a.age < b.age\")\n",
    "selected_edges = user_paths.select(\"e.src\", \"e.dst\", \"e.relationship\")\n",
    "sample_subGraph = GraphFrame(user_graph.vertices, selected_edges)"
   ]
  },
  {
   "cell_type": "code",
   "execution_count": 32,
   "id": "f1cd9c5d-da6a-4f38-9aab-8400b377cb55",
   "metadata": {},
   "outputs": [
    {
     "name": "stdout",
     "output_type": "stream",
     "text": [
      "+---+-------+---+\n",
      "| id|   name|age|\n",
      "+---+-------+---+\n",
      "|  a|  Alice| 34|\n",
      "|  b|    Bob| 36|\n",
      "|  c|Charlie| 30|\n",
      "|  d|  David| 29|\n",
      "|  e| Esther| 32|\n",
      "|  f|  Fanny| 36|\n",
      "|  g|  Gabby| 60|\n",
      "+---+-------+---+\n",
      "\n"
     ]
    }
   ],
   "source": [
    "sample_subGraph.vertices.show()"
   ]
  },
  {
   "cell_type": "code",
   "execution_count": 33,
   "id": "b8f34a9c-2118-4e8d-b009-55b7433732c1",
   "metadata": {},
   "outputs": [
    {
     "name": "stdout",
     "output_type": "stream",
     "text": [
      "+---+---+------------+\n",
      "|src|dst|relationship|\n",
      "+---+---+------------+\n",
      "|  e|  f|      follow|\n",
      "|  c|  b|      follow|\n",
      "+---+---+------------+\n",
      "\n"
     ]
    }
   ],
   "source": [
    "sample_subGraph.edges.show()"
   ]
  },
  {
   "cell_type": "markdown",
   "id": "e59397e8-2607-44df-a415-5b3664e1b078",
   "metadata": {},
   "source": [
    "### 2.6 Friend Recommendation"
   ]
  },
  {
   "cell_type": "code",
   "execution_count": 34,
   "id": "e1ef8a79-9edd-4b3f-90ba-12b23d8d5817",
   "metadata": {},
   "outputs": [
    {
     "name": "stderr",
     "output_type": "stream",
     "text": [
      "                                                                                \r"
     ]
    },
    {
     "name": "stdout",
     "output_type": "stream",
     "text": [
      "+---------------+----------------+\n",
      "|              A|               C|\n",
      "+---------------+----------------+\n",
      "|[e, Esther, 32]|[c, Charlie, 30]|\n",
      "|[e, Esther, 32]|  [a, Alice, 34]|\n",
      "| [d, David, 29]|    [b, Bob, 36]|\n",
      "| [a, Alice, 34]|  [d, David, 29]|\n",
      "| [f, Fanny, 36]|    [b, Bob, 36]|\n",
      "| [d, David, 29]| [e, Esther, 32]|\n",
      "| [a, Alice, 34]|  [f, Fanny, 36]|\n",
      "| [a, Alice, 34]|[c, Charlie, 30]|\n",
      "+---------------+----------------+\n",
      "\n"
     ]
    }
   ],
   "source": [
    "potential_graph = user_graph.find(\"(A)-[]->(B); (B)-[]->(C); !(A)-[]->(C)\")\n",
    "filtered_graph = potential_graph.filter(\"A.id != C.id\")\n",
    "recommendation = filtered_graph.select(\"A\", \"C\")\n",
    "recommendation.show()"
   ]
  },
  {
   "cell_type": "markdown",
   "id": "0a3bf680-243e-4967-8894-445d8237d315",
   "metadata": {},
   "source": [
    "## 3. Real World Applications "
   ]
  },
  {
   "cell_type": "markdown",
   "id": "ab4b1533-566d-4b22-9aab-fa65f491a21f",
   "metadata": {},
   "source": [
    "### 3.1 Flight Data"
   ]
  },
  {
   "cell_type": "code",
   "execution_count": 35,
   "id": "074673e2-65b5-4b28-b232-2f68781693a5",
   "metadata": {},
   "outputs": [
    {
     "name": "stdout",
     "output_type": "stream",
     "text": [
      "+-------------+-------+-----+---+\n",
      "|         City|Country|State| id|\n",
      "+-------------+-------+-----+---+\n",
      "|      Chicago|    USA|   IL|ORD|\n",
      "|     New York|    USA|   NY|LGA|\n",
      "|       Boston|    USA|   MA|BOS|\n",
      "|      Houston|    USA|   TX|IAH|\n",
      "|       Newark|    USA|   NJ|EWR|\n",
      "|       Denver|    USA|   CO|DEN|\n",
      "|        Miami|    USA|   FL|MIA|\n",
      "|San Francisco|    USA|   CA|SFO|\n",
      "|      Atlanta|    USA|   GA|ATL|\n",
      "|       Dallas|    USA|   TX|DFW|\n",
      "|    Charlotte|    USA|   NC|CLT|\n",
      "|  Los Angeles|    USA|   CA|LAX|\n",
      "|      Seattle|    USA|   WA|SEA|\n",
      "+-------------+-------+-----+---+\n",
      "\n"
     ]
    }
   ],
   "source": [
    "airports_path = 'data/airports.json'\n",
    "air_port_vertices = spark.read.json(airports_path)\n",
    "air_port_vertices.show()"
   ]
  },
  {
   "cell_type": "code",
   "execution_count": 36,
   "id": "14fc1f5a-3a21-4eab-89b1-4493348ddc80",
   "metadata": {},
   "outputs": [
    {
     "name": "stdout",
     "output_type": "stream",
     "text": [
      "+---+---+-----+--------+\n",
      "|src|dst| dist|depdelay|\n",
      "+---+---+-----+--------+\n",
      "|ATL|BOS|946.0|     0.0|\n",
      "|ATL|BOS|946.0|     8.0|\n",
      "|ATL|BOS|946.0|     9.0|\n",
      "|ATL|BOS|946.0|     0.0|\n",
      "|ATL|BOS|946.0|     6.0|\n",
      "|ATL|BOS|946.0|     0.0|\n",
      "|ATL|BOS|946.0|     0.0|\n",
      "|ATL|BOS|946.0|    21.0|\n",
      "|ATL|BOS|946.0|   198.0|\n",
      "|ATL|BOS|946.0|    14.0|\n",
      "|ATL|BOS|946.0|   215.0|\n",
      "|ATL|CLT|226.0|     0.0|\n",
      "|ATL|CLT|226.0|     0.0|\n",
      "|ATL|CLT|226.0|     0.0|\n",
      "|ATL|CLT|226.0|     0.0|\n",
      "|ATL|CLT|226.0|     0.0|\n",
      "|ATL|CLT|226.0|     0.0|\n",
      "|ATL|CLT|226.0|    11.0|\n",
      "|ATL|CLT|226.0|     1.0|\n",
      "|ATL|CLT|226.0|     0.0|\n",
      "+---+---+-----+--------+\n",
      "only showing top 20 rows\n",
      "\n"
     ]
    }
   ],
   "source": [
    "flight_path = 'data/flightdata2018.json'\n",
    "flight_edges = spark.read.json(flight_path).select(\"src\", \"dst\", \"dist\", \"depdelay\")\n",
    "flight_edges.show()"
   ]
  },
  {
   "cell_type": "code",
   "execution_count": 37,
   "id": "55b962d7-7eaa-41a5-8f7b-0e8f1d1df283",
   "metadata": {},
   "outputs": [
    {
     "data": {
      "text/plain": [
       "GraphFrame(v:[id: string, City: string ... 2 more fields], e:[src: string, dst: string ... 2 more fields])"
      ]
     },
     "execution_count": 37,
     "metadata": {},
     "output_type": "execute_result"
    }
   ],
   "source": [
    "flight_graph = GraphFrame(air_port_vertices, flight_edges)\n",
    "flight_graph"
   ]
  },
  {
   "cell_type": "code",
   "execution_count": 38,
   "id": "d19ae5eb-e23c-48b2-a2a3-ecee6e7b0b77",
   "metadata": {},
   "outputs": [
    {
     "data": {
      "text/plain": [
       "13"
      ]
     },
     "execution_count": 38,
     "metadata": {},
     "output_type": "execute_result"
    }
   ],
   "source": [
    "flight_graph.vertices.count()"
   ]
  },
  {
   "cell_type": "code",
   "execution_count": 39,
   "id": "7d7c62be-779d-4bb2-a52e-849f33374944",
   "metadata": {},
   "outputs": [
    {
     "data": {
      "text/plain": [
       "14016"
      ]
     },
     "execution_count": 39,
     "metadata": {},
     "output_type": "execute_result"
    }
   ],
   "source": [
    "flight_graph.edges.count()"
   ]
  },
  {
   "cell_type": "code",
   "execution_count": 40,
   "id": "b4539929-1458-4f69-82b7-ecc8663431dd",
   "metadata": {},
   "outputs": [],
   "source": [
    "from pyspark.sql.functions import col"
   ]
  },
  {
   "cell_type": "code",
   "execution_count": 41,
   "id": "16cc8a7f-260f-4c6c-a134-9fd42d3b018e",
   "metadata": {},
   "outputs": [
    {
     "name": "stdout",
     "output_type": "stream",
     "text": [
      "+---+---+---------+\n",
      "|src|dst|max(dist)|\n",
      "+---+---+---------+\n",
      "|MIA|SEA|   2724.0|\n",
      "|SEA|MIA|   2724.0|\n",
      "|BOS|SFO|   2704.0|\n",
      "|SFO|BOS|   2704.0|\n",
      "|BOS|LAX|   2611.0|\n",
      "|LAX|BOS|   2611.0|\n",
      "|SFO|MIA|   2585.0|\n",
      "|MIA|SFO|   2585.0|\n",
      "|SFO|EWR|   2565.0|\n",
      "|EWR|SFO|   2565.0|\n",
      "|BOS|SEA|   2496.0|\n",
      "|SEA|BOS|   2496.0|\n",
      "|LAX|EWR|   2454.0|\n",
      "|EWR|LAX|   2454.0|\n",
      "|SEA|EWR|   2402.0|\n",
      "|EWR|SEA|   2402.0|\n",
      "|LAX|MIA|   2342.0|\n",
      "|MIA|LAX|   2342.0|\n",
      "|SFO|CLT|   2296.0|\n",
      "|CLT|SFO|   2296.0|\n",
      "+---+---+---------+\n",
      "only showing top 20 rows\n",
      "\n"
     ]
    }
   ],
   "source": [
    "# which flight routes have the longest distance\n",
    "flight_graph.edges.groupBy(\"src\", \"dst\").max(\"dist\"\n",
    "                                            ).sort(col(\"max(dist)\").desc()\n",
    "                                                  ).show()"
   ]
  },
  {
   "cell_type": "code",
   "execution_count": 42,
   "id": "d629c3c7-448c-433f-8543-39ec9f30d3c1",
   "metadata": {},
   "outputs": [
    {
     "name": "stdout",
     "output_type": "stream",
     "text": [
      "+---+---+------------------+\n",
      "|src|dst|     avg(depdelay)|\n",
      "+---+---+------------------+\n",
      "|SEA|MIA| 49.06666666666667|\n",
      "|BOS|SEA|              36.0|\n",
      "|EWR|LAX| 34.96739130434783|\n",
      "|SEA|EWR| 34.31818181818182|\n",
      "|MIA|SEA|33.142857142857146|\n",
      "|MIA|EWR| 32.84415584415584|\n",
      "|DEN|EWR|            31.875|\n",
      "|BOS|EWR|31.463768115942027|\n",
      "|EWR|DEN|30.430379746835442|\n",
      "|LGA|CLT|            30.225|\n",
      "|EWR|MIA|29.810126582278482|\n",
      "|ORD|LGA|28.375757575757575|\n",
      "|EWR|ATL| 27.39855072463768|\n",
      "|BOS|SFO| 26.93220338983051|\n",
      "|EWR|BOS| 26.92753623188406|\n",
      "|MIA|LGA|25.964285714285715|\n",
      "|ATL|LGA|25.852459016393443|\n",
      "|LGA|BOS| 24.88888888888889|\n",
      "|EWR|ORD|24.761467889908257|\n",
      "|BOS|LGA|24.164556962025316|\n",
      "+---+---+------------------+\n",
      "only showing top 20 rows\n",
      "\n"
     ]
    }
   ],
   "source": [
    "# which flight routes have the highest average delays\n",
    "flight_graph.edges.groupBy(\"src\", \"dst\"\n",
    "                          ).avg(\"depdelay\"\n",
    "                               ).sort(col(\"avg(depdelay)\").desc()\n",
    "                                     ).show()"
   ]
  },
  {
   "cell_type": "code",
   "execution_count": 43,
   "id": "6777e183-1c26-4354-9419-2cbb0641209c",
   "metadata": {},
   "outputs": [
    {
     "name": "stdout",
     "output_type": "stream",
     "text": [
      "+---+---+------+--------+\n",
      "|src|dst|  dist|depdelay|\n",
      "+---+---+------+--------+\n",
      "|LAX|ATL|1947.0|   942.0|\n",
      "|LAX|EWR|2454.0|   718.0|\n",
      "|EWR|LAX|2454.0|   709.0|\n",
      "+---+---+------+--------+\n",
      "only showing top 3 rows\n",
      "\n"
     ]
    }
   ],
   "source": [
    "# What are the longest delays for flights that are greater than 1,500 miles in distance?\n",
    "# Note that the output here has been trimmed to fit the page.\n",
    "flight_graph.edges.filter(\"dist > 1500\"\n",
    "                         ).orderBy(col(\"depdelay\").desc()\n",
    "                                  ).show(3)"
   ]
  },
  {
   "cell_type": "code",
   "execution_count": 44,
   "id": "18c51a2e-b34f-4e9c-9053-4a056d8f0ff5",
   "metadata": {},
   "outputs": [
    {
     "name": "stdout",
     "output_type": "stream",
     "text": [
      "+---+---+-----+--------+\n",
      "|src|dst| dist|depdelay|\n",
      "+---+---+-----+--------+\n",
      "|ATL|BOS|946.0|     0.0|\n",
      "|ATL|BOS|946.0|     8.0|\n",
      "|ATL|BOS|946.0|     9.0|\n",
      "+---+---+-----+--------+\n",
      "only showing top 3 rows\n",
      "\n"
     ]
    }
   ],
   "source": [
    "flight_graph.edges.show(3)"
   ]
  },
  {
   "cell_type": "code",
   "execution_count": 45,
   "id": "b1bc01ca-8811-4567-81fe-bbffe5578d98",
   "metadata": {},
   "outputs": [
    {
     "name": "stdout",
     "output_type": "stream",
     "text": [
      "+---+---+------------------+\n",
      "|src|dst|     avg(depdelay)|\n",
      "+---+---+------------------+\n",
      "|ATL|LGA|50.806451612903224|\n",
      "|ATL|BOS|47.056603773584904|\n",
      "|ATL|EWR|  46.9264705882353|\n",
      "+---+---+------------------+\n",
      "only showing top 3 rows\n",
      "\n"
     ]
    }
   ],
   "source": [
    "# What is the average delay for delayed flights departing from Atlanta (ATL)\n",
    "flight_graph.edges.filter(\"src = 'ATL' and depdelay > 1\"\n",
    "                         ).groupBy(\"src\", \"dst\"\n",
    "                                  ).avg(\"depdelay\"\n",
    "                                       ).sort(col(\"avg(depdelay)\").desc()\n",
    "                                             ).show(3)"
   ]
  },
  {
   "cell_type": "code",
   "execution_count": 46,
   "id": "20ab7a7d-0205-49b6-9ea7-1b2219738e9f",
   "metadata": {},
   "outputs": [
    {
     "name": "stdout",
     "output_type": "stream",
     "text": [
      "+---+---+-----+\n",
      "|src|dst|count|\n",
      "+---+---+-----+\n",
      "|LAX|SFO|  201|\n",
      "|ORD|LAX|  197|\n",
      "|LAX|ORD|  196|\n",
      "+---+---+-----+\n",
      "only showing top 3 rows\n",
      "\n"
     ]
    }
   ],
   "source": [
    "#What are the four most frequent flight routes in the dataset\n",
    "flight_graph.edges.groupBy(\"src\", \"dst\"\n",
    "                          ).count().orderBy(col(\"count\").desc()\n",
    "                                           ).show(3)"
   ]
  },
  {
   "cell_type": "code",
   "execution_count": 47,
   "id": "27864e02-3eae-46e8-a5e0-4b18b27cc12b",
   "metadata": {},
   "outputs": [
    {
     "name": "stdout",
     "output_type": "stream",
     "text": [
      "+---+------+\n",
      "| id|degree|\n",
      "+---+------+\n",
      "|ORD|  3262|\n",
      "|ATL|  2952|\n",
      "|LAX|  2689|\n",
      "+---+------+\n",
      "only showing top 3 rows\n",
      "\n"
     ]
    }
   ],
   "source": [
    "# which airports have the most incomming and outgoing flights\n",
    "flight_graph.degrees.orderBy(col(\"degree\").desc()\n",
    "                            ).show(3)"
   ]
  },
  {
   "cell_type": "code",
   "execution_count": 48,
   "id": "f77e3c76-7bba-4f0c-bdff-a4acbb1e78f9",
   "metadata": {},
   "outputs": [
    {
     "data": {
      "text/plain": [
       "GraphFrame(v:[id: string, City: string ... 3 more fields], e:[src: string, dst: string ... 3 more fields])"
      ]
     },
     "execution_count": 48,
     "metadata": {},
     "output_type": "execute_result"
    }
   ],
   "source": [
    "# What are the most important airports, according to the PageRank algorithm\n",
    "airport_ranks = flight_graph.pageRank(resetProbability=0.15, tol=0.01)\n",
    "airport_ranks"
   ]
  },
  {
   "cell_type": "code",
   "execution_count": 49,
   "id": "47f36be4-e95d-4cfd-821d-c00927d0e925",
   "metadata": {},
   "outputs": [
    {
     "name": "stdout",
     "output_type": "stream",
     "text": [
      "+-----------+-------+-----+---+------------------+\n",
      "|       City|Country|State| id|          pagerank|\n",
      "+-----------+-------+-----+---+------------------+\n",
      "|    Chicago|    USA|   IL|ORD|1.4424205054493797|\n",
      "|    Atlanta|    USA|   GA|ATL| 1.312213576108763|\n",
      "|Los Angeles|    USA|   CA|LAX|1.2026295571856727|\n",
      "|     Dallas|    USA|   TX|DFW|1.1671053525707842|\n",
      "|     Denver|    USA|   CO|DEN|1.0888901678157008|\n",
      "+-----------+-------+-----+---+------------------+\n",
      "only showing top 5 rows\n",
      "\n"
     ]
    }
   ],
   "source": [
    "airport_ranks.vertices.orderBy(col(\"pageRank\").desc()\n",
    "                              ).show(5)"
   ]
  },
  {
   "cell_type": "code",
   "execution_count": 50,
   "id": "d6728364-4eb2-43d8-b199-558224e0bc3a",
   "metadata": {},
   "outputs": [
    {
     "name": "stdout",
     "output_type": "stream",
     "text": [
      "+--------------------+--------------------+--------------------+\n",
      "|                   a|                   b|                   c|\n",
      "+--------------------+--------------------+--------------------+\n",
      "|[Atlanta, USA, GA...|[Boston, USA, MA,...|[San Francisco, U...|\n",
      "|[Atlanta, USA, GA...|[Boston, USA, MA,...|[San Francisco, U...|\n",
      "|[Atlanta, USA, GA...|[Boston, USA, MA,...|[San Francisco, U...|\n",
      "|[Atlanta, USA, GA...|[Boston, USA, MA,...|[San Francisco, U...|\n",
      "|[Atlanta, USA, GA...|[Boston, USA, MA,...|[San Francisco, U...|\n",
      "+--------------------+--------------------+--------------------+\n",
      "only showing top 5 rows\n",
      "\n"
     ]
    }
   ],
   "source": [
    "# fin all airport has not direct flight\n",
    "flight_graph.find(\"(a)-[]->(b); (b)-[]->(c)\").show(5)"
   ]
  },
  {
   "cell_type": "code",
   "execution_count": 51,
   "id": "48f0b74d-ebd9-475c-a7f3-9ec1dc28af2d",
   "metadata": {},
   "outputs": [
    {
     "name": "stdout",
     "output_type": "stream",
     "text": [
      "+----+-------+-----+---+\n",
      "|City|Country|State| id|\n",
      "+----+-------+-----+---+\n",
      "+----+-------+-----+---+\n",
      "\n"
     ]
    }
   ],
   "source": [
    "# there is no direct path to connect 2 cities\n",
    "flight_graph.bfs(\"id = 'LAX'\", \"id = 'LGA'\", maxPathLength=1).show(5)"
   ]
  },
  {
   "cell_type": "code",
   "execution_count": 52,
   "id": "05a38a10-3942-48bb-b944-6309402637c9",
   "metadata": {},
   "outputs": [
    {
     "name": "stdout",
     "output_type": "stream",
     "text": [
      "+---------------------------+-----------------------+-----------------------+------------------------+------------------------+\n",
      "|from                       |e0                     |v1                     |e1                      |to                      |\n",
      "+---------------------------+-----------------------+-----------------------+------------------------+------------------------+\n",
      "|[Los Angeles, USA, CA, LAX]|[LAX, IAH, 1379.0, 0.0]|[Houston, USA, TX, IAH]|[IAH, LGA, 1416.0, 0.0] |[New York, USA, NY, LGA]|\n",
      "|[Los Angeles, USA, CA, LAX]|[LAX, IAH, 1379.0, 0.0]|[Houston, USA, TX, IAH]|[IAH, LGA, 1416.0, 52.0]|[New York, USA, NY, LGA]|\n",
      "|[Los Angeles, USA, CA, LAX]|[LAX, IAH, 1379.0, 0.0]|[Houston, USA, TX, IAH]|[IAH, LGA, 1416.0, 8.0] |[New York, USA, NY, LGA]|\n",
      "|[Los Angeles, USA, CA, LAX]|[LAX, IAH, 1379.0, 0.0]|[Houston, USA, TX, IAH]|[IAH, LGA, 1416.0, 0.0] |[New York, USA, NY, LGA]|\n",
      "|[Los Angeles, USA, CA, LAX]|[LAX, IAH, 1379.0, 0.0]|[Houston, USA, TX, IAH]|[IAH, LGA, 1416.0, 0.0] |[New York, USA, NY, LGA]|\n",
      "+---------------------------+-----------------------+-----------------------+------------------------+------------------------+\n",
      "only showing top 5 rows\n",
      "\n"
     ]
    }
   ],
   "source": [
    "# change value to 2 to get short test path connect 2 cities\n",
    "flight_graph.bfs(\"id = 'LAX'\", \"id = 'LGA'\", maxPathLength=2).show(5, truncate=False)"
   ]
  },
  {
   "cell_type": "code",
   "execution_count": 53,
   "id": "ebbd2f06-be56-4726-abd4-afc1a1b93709",
   "metadata": {},
   "outputs": [
    {
     "name": "stdout",
     "output_type": "stream",
     "text": [
      "+--------------------+--------------------+--------------------+\n",
      "|                   a|                   b|                   c|\n",
      "+--------------------+--------------------+--------------------+\n",
      "|[Los Angeles, USA...|[Atlanta, USA, GA...|[New York, USA, N...|\n",
      "|[Los Angeles, USA...|[Atlanta, USA, GA...|[New York, USA, N...|\n",
      "|[Los Angeles, USA...|[Atlanta, USA, GA...|[New York, USA, N...|\n",
      "|[Los Angeles, USA...|[Atlanta, USA, GA...|[New York, USA, N...|\n",
      "|[Los Angeles, USA...|[Atlanta, USA, GA...|[New York, USA, N...|\n",
      "+--------------------+--------------------+--------------------+\n",
      "\n"
     ]
    }
   ],
   "source": [
    "# we also can use motif finding to get all possible transit flight\n",
    "flight_graph.find(\"(a)-[]->(b); (b)-[]->(c)\"\n",
    "                 ).filter(\"a.id = 'LAX'\"\n",
    "                         ).filter(\"c.id = 'LGA'\"\n",
    "                                 ).limit(5).select(\"a\", \"b\", \"c\").show()"
   ]
  },
  {
   "cell_type": "code",
   "execution_count": null,
   "id": "1f73b466-6092-4721-8fb4-621c0987a2a1",
   "metadata": {},
   "outputs": [],
   "source": []
  }
 ],
 "metadata": {
  "kernelspec": {
   "display_name": "Python 3 (ipykernel)",
   "language": "python",
   "name": "python3"
  },
  "language_info": {
   "codemirror_mode": {
    "name": "ipython",
    "version": 3
   },
   "file_extension": ".py",
   "mimetype": "text/x-python",
   "name": "python",
   "nbconvert_exporter": "python",
   "pygments_lexer": "ipython3",
   "version": "3.7.13"
  }
 },
 "nbformat": 4,
 "nbformat_minor": 5
}
